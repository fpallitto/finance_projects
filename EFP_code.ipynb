{
 "cells": [
  {
   "cell_type": "code",
   "execution_count": 1,
   "id": "b5c30d05-636b-432d-952e-90f32fd68d4d",
   "metadata": {},
   "outputs": [],
   "source": [
    "import yfinance as yf\n",
    "import numpy as np"
   ]
  },
  {
   "cell_type": "code",
   "execution_count": 4,
   "id": "0b585fe7-8265-46f0-b755-bdd35212c6eb",
   "metadata": {},
   "outputs": [
    {
     "name": "stdout",
     "output_type": "stream",
     "text": [
      "[*********************100%***********************]  2 of 2 completed\n"
     ]
    }
   ],
   "source": [
    "df = yf.download([\"AAPL\", \"CAT\"], start = \"2000-12-01\", end = \"2022-10-01\")"
   ]
  },
  {
   "cell_type": "code",
   "execution_count": 6,
   "id": "5b8da160-cb50-454f-b612-8a81fc353d26",
   "metadata": {},
   "outputs": [],
   "source": [
    "df = np.log(1+df[\"Adj Close\"].pct_change()\n",
    ")"
   ]
  },
  {
   "cell_type": "code",
   "execution_count": 7,
   "id": "cf610d61-d0e5-4bd8-bc85-f9a551082f16",
   "metadata": {},
   "outputs": [
    {
     "data": {
      "text/html": [
       "<div>\n",
       "<style scoped>\n",
       "    .dataframe tbody tr th:only-of-type {\n",
       "        vertical-align: middle;\n",
       "    }\n",
       "\n",
       "    .dataframe tbody tr th {\n",
       "        vertical-align: top;\n",
       "    }\n",
       "\n",
       "    .dataframe thead th {\n",
       "        text-align: right;\n",
       "    }\n",
       "</style>\n",
       "<table border=\"1\" class=\"dataframe\">\n",
       "  <thead>\n",
       "    <tr style=\"text-align: right;\">\n",
       "      <th></th>\n",
       "      <th>AAPL</th>\n",
       "      <th>CAT</th>\n",
       "    </tr>\n",
       "    <tr>\n",
       "      <th>Date</th>\n",
       "      <th></th>\n",
       "      <th></th>\n",
       "    </tr>\n",
       "  </thead>\n",
       "  <tbody>\n",
       "    <tr>\n",
       "      <th>2000-11-30</th>\n",
       "      <td>NaN</td>\n",
       "      <td>NaN</td>\n",
       "    </tr>\n",
       "    <tr>\n",
       "      <th>2000-12-01</th>\n",
       "      <td>0.033524</td>\n",
       "      <td>0.034378</td>\n",
       "    </tr>\n",
       "    <tr>\n",
       "      <th>2000-12-04</th>\n",
       "      <td>-0.022225</td>\n",
       "      <td>0.062520</td>\n",
       "    </tr>\n",
       "    <tr>\n",
       "      <th>2000-12-05</th>\n",
       "      <td>0.018552</td>\n",
       "      <td>0.001442</td>\n",
       "    </tr>\n",
       "    <tr>\n",
       "      <th>2000-12-06</th>\n",
       "      <td>-0.172080</td>\n",
       "      <td>-0.042685</td>\n",
       "    </tr>\n",
       "    <tr>\n",
       "      <th>...</th>\n",
       "      <td>...</td>\n",
       "      <td>...</td>\n",
       "    </tr>\n",
       "    <tr>\n",
       "      <th>2022-09-26</th>\n",
       "      <td>0.002258</td>\n",
       "      <td>-0.009913</td>\n",
       "    </tr>\n",
       "    <tr>\n",
       "      <th>2022-09-27</th>\n",
       "      <td>0.006545</td>\n",
       "      <td>-0.001107</td>\n",
       "    </tr>\n",
       "    <tr>\n",
       "      <th>2022-09-28</th>\n",
       "      <td>-0.012732</td>\n",
       "      <td>0.032226</td>\n",
       "    </tr>\n",
       "    <tr>\n",
       "      <th>2022-09-29</th>\n",
       "      <td>-0.050366</td>\n",
       "      <td>-0.011149</td>\n",
       "    </tr>\n",
       "    <tr>\n",
       "      <th>2022-09-30</th>\n",
       "      <td>-0.030500</td>\n",
       "      <td>-0.011031</td>\n",
       "    </tr>\n",
       "  </tbody>\n",
       "</table>\n",
       "<p>5493 rows × 2 columns</p>\n",
       "</div>"
      ],
      "text/plain": [
       "                AAPL       CAT\n",
       "Date                          \n",
       "2000-11-30       NaN       NaN\n",
       "2000-12-01  0.033524  0.034378\n",
       "2000-12-04 -0.022225  0.062520\n",
       "2000-12-05  0.018552  0.001442\n",
       "2000-12-06 -0.172080 -0.042685\n",
       "...              ...       ...\n",
       "2022-09-26  0.002258 -0.009913\n",
       "2022-09-27  0.006545 -0.001107\n",
       "2022-09-28 -0.012732  0.032226\n",
       "2022-09-29 -0.050366 -0.011149\n",
       "2022-09-30 -0.030500 -0.011031\n",
       "\n",
       "[5493 rows x 2 columns]"
      ]
     },
     "execution_count": 7,
     "metadata": {},
     "output_type": "execute_result"
    }
   ],
   "source": [
    "df"
   ]
  },
  {
   "cell_type": "code",
   "execution_count": 8,
   "id": "7738b146-fc22-4d4f-8739-5b6a59bfc085",
   "metadata": {},
   "outputs": [],
   "source": [
    "weights = [0.5, 0.5]"
   ]
  },
  {
   "cell_type": "code",
   "execution_count": 10,
   "id": "2f514c1b-4f1e-4c00-850a-f0dc8efb446d",
   "metadata": {},
   "outputs": [
    {
     "data": {
      "text/plain": [
       "0.0008191037788671609"
      ]
     },
     "execution_count": 10,
     "metadata": {},
     "output_type": "execute_result"
    }
   ],
   "source": [
    "weights[0]*df.AAPL.mean() + weights[1]*df.CAT.mean()"
   ]
  },
  {
   "cell_type": "code",
   "execution_count": 12,
   "id": "eb06845f-9402-4347-8199-f9c08544a861",
   "metadata": {},
   "outputs": [],
   "source": [
    "def portfolioreturn(weights):\n",
    "    return np.dot(df.mean(),weights)"
   ]
  },
  {
   "cell_type": "code",
   "execution_count": 13,
   "id": "f1b614e5-4ac3-463d-ad22-b9e3a08e5e66",
   "metadata": {},
   "outputs": [
    {
     "data": {
      "text/plain": [
       "0.0008191037788671609"
      ]
     },
     "execution_count": 13,
     "metadata": {},
     "output_type": "execute_result"
    }
   ],
   "source": [
    "portfolioreturn(weights)"
   ]
  },
  {
   "cell_type": "markdown",
   "id": "8ff79978-e31c-44f7-a885-0f7ce7682b2d",
   "metadata": {
    "tags": []
   },
   "source": [
    "Portfolio Variance"
   ]
  },
  {
   "cell_type": "code",
   "execution_count": 34,
   "id": "e2d29d1f-5eac-4292-8900-125b360ff5d8",
   "metadata": {},
   "outputs": [
    {
     "data": {
      "text/html": [
       "<div>\n",
       "<style scoped>\n",
       "    .dataframe tbody tr th:only-of-type {\n",
       "        vertical-align: middle;\n",
       "    }\n",
       "\n",
       "    .dataframe tbody tr th {\n",
       "        vertical-align: top;\n",
       "    }\n",
       "\n",
       "    .dataframe thead th {\n",
       "        text-align: right;\n",
       "    }\n",
       "</style>\n",
       "<table border=\"1\" class=\"dataframe\">\n",
       "  <thead>\n",
       "    <tr style=\"text-align: right;\">\n",
       "      <th></th>\n",
       "      <th>AAPL</th>\n",
       "      <th>CAT</th>\n",
       "    </tr>\n",
       "  </thead>\n",
       "  <tbody>\n",
       "    <tr>\n",
       "      <th>AAPL</th>\n",
       "      <td>0.000527</td>\n",
       "      <td>0.000183</td>\n",
       "    </tr>\n",
       "    <tr>\n",
       "      <th>CAT</th>\n",
       "      <td>0.000183</td>\n",
       "      <td>0.000404</td>\n",
       "    </tr>\n",
       "  </tbody>\n",
       "</table>\n",
       "</div>"
      ],
      "text/plain": [
       "          AAPL       CAT\n",
       "AAPL  0.000527  0.000183\n",
       "CAT   0.000183  0.000404"
      ]
     },
     "execution_count": 34,
     "metadata": {},
     "output_type": "execute_result"
    }
   ],
   "source": [
    "df.cov()"
   ]
  },
  {
   "cell_type": "code",
   "execution_count": 35,
   "id": "6b491460-2212-45a1-8fda-2cb53d641006",
   "metadata": {},
   "outputs": [],
   "source": [
    "pv = weights[0]**2*df.cov().iloc[0,0] + weights[1]**2*df.cov().iloc[1,1]+2*weights[0]*weights[1]*df.cov().iloc[0,1]"
   ]
  },
  {
   "cell_type": "code",
   "execution_count": 36,
   "id": "da9cd1e8-28af-483a-b631-86a275e20b13",
   "metadata": {},
   "outputs": [
    {
     "data": {
      "text/plain": [
       "0.0003242815184277694"
      ]
     },
     "execution_count": 36,
     "metadata": {},
     "output_type": "execute_result"
    }
   ],
   "source": [
    "pv"
   ]
  },
  {
   "cell_type": "code",
   "execution_count": 38,
   "id": "184d968c-2706-430f-a400-d735e8d58a94",
   "metadata": {},
   "outputs": [
    {
     "data": {
      "text/plain": [
       "0.28472860693464286"
      ]
     },
     "execution_count": 38,
     "metadata": {},
     "output_type": "execute_result"
    }
   ],
   "source": [
    "pv**(1/2)*np.sqrt(250)"
   ]
  },
  {
   "cell_type": "code",
   "execution_count": 41,
   "id": "5ecd4af7-ed4d-4a1c-820f-67c491631cc5",
   "metadata": {},
   "outputs": [],
   "source": [
    "def portfoliostd(weights):\n",
    "    return(np.dot(np.dot(df.cov(),weights),weights))**(1/2)*np.sqrt(250)\n"
   ]
  },
  {
   "cell_type": "code",
   "execution_count": 42,
   "id": "a977ff08-e49f-48e6-86a2-bb144bbc9534",
   "metadata": {},
   "outputs": [
    {
     "data": {
      "text/plain": [
       "0.28472860693464286"
      ]
     },
     "execution_count": 42,
     "metadata": {},
     "output_type": "execute_result"
    }
   ],
   "source": [
    "portfoliostd(weights)"
   ]
  },
  {
   "cell_type": "code",
   "execution_count": 50,
   "id": "84cafc87-ab6a-4c79-853f-85f3c351af86",
   "metadata": {},
   "outputs": [],
   "source": [
    "def weightscreator(df):\n",
    "    rand = np.random.random(len(df.columns))\n",
    "    rand /= rand.sum()\n",
    "    return rand"
   ]
  },
  {
   "cell_type": "code",
   "execution_count": 51,
   "id": "0ec1516b-4a81-42ef-9ee5-1debda6d8887",
   "metadata": {},
   "outputs": [
    {
     "data": {
      "text/plain": [
       "array([0.50754935, 0.49245065])"
      ]
     },
     "execution_count": 51,
     "metadata": {},
     "output_type": "execute_result"
    }
   ],
   "source": [
    "weightscreator(df)"
   ]
  },
  {
   "cell_type": "code",
   "execution_count": 55,
   "id": "479db7d8-43ef-4924-b6d5-63a4cee74612",
   "metadata": {},
   "outputs": [],
   "source": [
    "returns = []\n",
    "stds = []\n",
    "w = []\n",
    "\n",
    "for i in range(500):\n",
    "    weights = weightscreator(df)\n",
    "    returns.append(portfolioreturn(weights))\n",
    "    stds.append(portfoliostd(weights))\n",
    "    w.append(weights)"
   ]
  },
  {
   "cell_type": "code",
   "execution_count": 58,
   "id": "d130ea80-fdeb-4400-9fca-fdbbfa0dc57b",
   "metadata": {},
   "outputs": [],
   "source": [
    "import matplotlib.pyplot as plt"
   ]
  },
  {
   "cell_type": "code",
   "execution_count": 63,
   "id": "5615b6b3-71c9-43ae-adc2-b3646f7025ab",
   "metadata": {},
   "outputs": [
    {
     "data": {
      "text/plain": [
       "Text(0, 0.5, 'Portfolio Return')"
      ]
     },
     "execution_count": 63,
     "metadata": {},
     "output_type": "execute_result"
    },
    {
     "data": {
      "image/png": "[encoded data removed]",
      "text/plain": [
       "<Figure size 432x288 with 1 Axes>"
      ]
     },
     "metadata": {
      "needs_background": "light"
     },
     "output_type": "display_data"
    }
   ],
   "source": [
    "plt.scatter(stds, returns)\n",
    "plt.scatter(df.std().iloc[0]*np.sqrt(250), df.mean().iloc[0], c=\"k\")\n",
    "plt.scatter(df.std().iloc[1]*np.sqrt(250), df.mean().iloc[1], c=\"yellow\")\n",
    "plt.title(\"Efficient Frontier\")\n",
    "plt.xlabel(\"Portfoliostd\")\n",
    "plt.ylabel(\"Portfolio Return\")"
   ]
  },
  {
   "cell_type": "code",
   "execution_count": 65,
   "id": "4f083cee-ed54-4689-a3da-545c6b503f2b",
   "metadata": {},
   "outputs": [
    {
     "data": {
      "text/plain": [
       "0.2817660766830897"
      ]
     },
     "execution_count": 65,
     "metadata": {},
     "output_type": "execute_result"
    }
   ],
   "source": [
    "min(stds)"
   ]
  },
  {
   "cell_type": "code",
   "execution_count": 66,
   "id": "aed1dfab-7dac-4643-9ad1-cc043d4a8565",
   "metadata": {},
   "outputs": [
    {
     "data": {
      "text/plain": [
       "105"
      ]
     },
     "execution_count": 66,
     "metadata": {},
     "output_type": "execute_result"
    }
   ],
   "source": [
    "stds.index(min(stds))"
   ]
  },
  {
   "cell_type": "code",
   "execution_count": 67,
   "id": "1a7cc67a-ee64-46f7-a2dc-f70d72bd3e6c",
   "metadata": {},
   "outputs": [
    {
     "data": {
      "text/plain": [
       "0.000746302755154065"
      ]
     },
     "execution_count": 67,
     "metadata": {},
     "output_type": "execute_result"
    }
   ],
   "source": [
    "returns[stds.index(min(stds))]"
   ]
  },
  {
   "cell_type": "code",
   "execution_count": null,
   "id": "a1e33fb7-088b-434f-8963-bdee1293b821",
   "metadata": {},
   "outputs": [],
   "source": []
  }
 ],
 "metadata": {
  "kernelspec": {
   "display_name": "Python 3 (ipykernel)",
   "language": "python",
   "name": "python3"
  },
  "language_info": {
   "codemirror_mode": {
    "name": "ipython",
    "version": 3
   },
   "file_extension": ".py",
   "mimetype": "text/x-python",
   "name": "python",
   "nbconvert_exporter": "python",
   "pygments_lexer": "ipython3",
   "version": "3.9.7"
  }
 },
 "nbformat": 4,
 "nbformat_minor": 5
}
